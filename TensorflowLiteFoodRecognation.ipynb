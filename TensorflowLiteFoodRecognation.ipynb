{
  "nbformat": 4,
  "nbformat_minor": 0,
  "metadata": {
    "colab": {
      "name": "TensorflowLiteFoodRecognation.ipynb",
      "provenance": [],
      "collapsed_sections": [],
      "include_colab_link": true
    },
    "kernelspec": {
      "display_name": "Python 3",
      "name": "python3"
    }
  },
  "cells": [
    {
      "cell_type": "markdown",
      "metadata": {
        "id": "view-in-github",
        "colab_type": "text"
      },
      "source": [
        "<a href=\"https://colab.research.google.com/github/BernaTasel/DietAppColab/blob/main/TensorflowLiteFoodRecognation.ipynb\" target=\"_parent\"><img src=\"https://colab.research.google.com/assets/colab-badge.svg\" alt=\"Open In Colab\"/></a>"
      ]
    },
    {
      "cell_type": "code",
      "metadata": {
        "id": "OijFUa20WSxJ"
      },
      "source": [
        "import tensorflow as tf\n",
        "from tensorflow import keras\n",
        "# Helper libraries\n",
        "import matplotlib.pyplot as plt\n",
        "import numpy as np\n",
        "from os import listdir\n",
        "from os.path import join\n",
        "import pandas\n",
        "import os\n",
        "import random\n",
        "import cv2\n",
        "import glob\n",
        "from google.colab import drive"
      ],
      "execution_count": null,
      "outputs": []
    },
    {
      "cell_type": "code",
      "metadata": {
        "id": "P1jA7U94WmSw"
      },
      "source": [
        "drive.mount('/content/drive')\n"
      ],
      "execution_count": null,
      "outputs": []
    },
    {
      "cell_type": "code",
      "metadata": {
        "id": "OcNUkMS8WwGk"
      },
      "source": [
        "data = \"/content/drive/MyDrive/DietApp/ResizedProjectDataset\"\n",
        "folders = os.listdir(data)\n",
        "folders\n"
      ],
      "execution_count": null,
      "outputs": []
    },
    {
      "cell_type": "code",
      "metadata": {
        "id": "bTIAFYNiXEUh"
      },
      "source": [
        "image_names2 = []\n",
        "train_labels2 = []\n",
        "train_images2 = []"
      ],
      "execution_count": null,
      "outputs": []
    },
    {
      "cell_type": "code",
      "metadata": {
        "colab": {
          "background_save": true
        },
        "id": "BSn7GAmeXN74"
      },
      "source": [
        "for folder in folders:\n",
        "  for file in os.listdir(os.path.join(data, folder)):\n",
        "    print(file)\n",
        "    image_names2.append(os.path.join(data, folder, file))\n",
        "    train_labels2.append(folder)\n",
        "    img = cv2.imread(os.path.join(data, folder, file))\n",
        "    train_images2.append(img)"
      ],
      "execution_count": null,
      "outputs": []
    },
    {
      "cell_type": "code",
      "metadata": {
        "id": "nncCVUn7XPp5"
      },
      "source": [
        "train = np.array(train_images2)\n",
        "train.shape\n",
        "train = train.astype('float32') / 255.0\n",
        "label_dummies = pandas.get_dummies(train_labels2)\n",
        "labels = label_dummies.values.argmax(1)\n"
      ],
      "execution_count": null,
      "outputs": []
    },
    {
      "cell_type": "code",
      "metadata": {
        "id": "aY_RKIrnXim3"
      },
      "source": [
        "pandas.unique(labels)\n",
        "union_list = list(zip(train, labels))\n",
        "random.shuffle(union_list)\n",
        "train,labels = zip(*union_list)"
      ],
      "execution_count": null,
      "outputs": []
    },
    {
      "cell_type": "code",
      "metadata": {
        "id": "OuZjwR9CXlwf"
      },
      "source": [
        "train = np.array(train)\n",
        "labels = np.array(labels)"
      ],
      "execution_count": null,
      "outputs": []
    },
    {
      "cell_type": "code",
      "metadata": {
        "id": "QsDPY_OFXpVo"
      },
      "source": [
        "model = keras.Sequential([\n",
        "    keras.layers.Flatten(input_shape=(128,128,3)),\n",
        "    keras.layers.Dense(128, activation=tf.nn.tanh),\n",
        "    keras.layers.Dense(5, activation=tf.nn.softmax)\n",
        "])"
      ],
      "execution_count": null,
      "outputs": []
    },
    {
      "cell_type": "code",
      "metadata": {
        "id": "W6Bd06Y4X3up"
      },
      "source": [
        "model.compile(optimizer=tf.optimizers.Adam(), \n",
        "              loss='sparse_categorical_crossentropy',\n",
        "              metrics=['accuracy'])"
      ],
      "execution_count": null,
      "outputs": []
    },
    {
      "cell_type": "code",
      "metadata": {
        "id": "SOIufGJdX57X"
      },
      "source": [
        "model.fit(train,labels, epochs=20)"
      ],
      "execution_count": null,
      "outputs": []
    },
    {
      "cell_type": "code",
      "metadata": {
        "id": "ghvO45jLaXRU"
      },
      "source": [
        "model.export(export_dir='.',with_metadata=True)"
      ],
      "execution_count": null,
      "outputs": []
    }
  ]
}